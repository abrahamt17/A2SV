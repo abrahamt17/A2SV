{
 "cells": [
  {
   "cell_type": "code",
   "execution_count": 9,
   "metadata": {},
   "outputs": [],
   "source": [
    "class Solution(object):\n",
    "    def backspaceCompare(self, s, t):\n",
    "        def building_string(st):\n",
    "            stack=[]\n",
    "            for char in st:\n",
    "                if char!=\"#\" and stack:\n",
    "                    stack.append(char)\n",
    "                    \n",
    "                else:\n",
    "                    stack.pop()\n",
    "            return ''.join(stack)\n",
    "        return build_string(s) == build_string(t)\n",
    "\n",
    "        \n",
    "    \n",
    "                \n",
    "            \n",
    "                \n",
    "        \n",
    "                \n",
    "\n",
    "    \n",
    "       "
   ]
  }
 ],
 "metadata": {
  "kernelspec": {
   "display_name": "Python 3",
   "language": "python",
   "name": "python3"
  },
  "language_info": {
   "codemirror_mode": {
    "name": "ipython",
    "version": 3
   },
   "file_extension": ".py",
   "mimetype": "text/x-python",
   "name": "python",
   "nbconvert_exporter": "python",
   "pygments_lexer": "ipython3",
   "version": "3.12.4"
  }
 },
 "nbformat": 4,
 "nbformat_minor": 2
}
